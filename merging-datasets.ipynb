{
 "cells": [
  {
   "cell_type": "code",
   "execution_count": 1,
   "metadata": {
    "collapsed": true
   },
   "outputs": [],
   "source": [
    "import pandas, numpy\n",
    "from matplotlib import pyplot\n",
    "import scipy.stats\n",
    "from collections import Counter\n",
    "from ipywidgets import interact, interactive, fixed, interact_manual\n",
    "from sklearn.linear_model import LinearRegression, LogisticRegression"
   ]
  },
  {
   "cell_type": "code",
   "execution_count": 2,
   "metadata": {},
   "outputs": [
    {
     "data": {
      "text/html": [
       "<div>\n",
       "<style>\n",
       "    .dataframe thead tr:only-child th {\n",
       "        text-align: right;\n",
       "    }\n",
       "\n",
       "    .dataframe thead th {\n",
       "        text-align: left;\n",
       "    }\n",
       "\n",
       "    .dataframe tbody tr th {\n",
       "        vertical-align: top;\n",
       "    }\n",
       "</style>\n",
       "<table border=\"1\" class=\"dataframe\">\n",
       "  <thead>\n",
       "    <tr style=\"text-align: right;\">\n",
       "      <th></th>\n",
       "      <th>Date</th>\n",
       "      <th>Opponent</th>\n",
       "      <th>Barrels</th>\n",
       "      <th>Barrel %</th>\n",
       "      <th>Max EV</th>\n",
       "      <th>Avg EV</th>\n",
       "      <th>Launch Angle</th>\n",
       "      <th>xBA</th>\n",
       "      <th>xSLG</th>\n",
       "      <th>xWOBA</th>\n",
       "      <th>WOBA</th>\n",
       "      <th>Hard Hit %</th>\n",
       "    </tr>\n",
       "  </thead>\n",
       "  <tbody>\n",
       "    <tr>\n",
       "      <th>0</th>\n",
       "      <td>10/2/2016</td>\n",
       "      <td>Astros</td>\n",
       "      <td>0</td>\n",
       "      <td>0.0</td>\n",
       "      <td>108.9</td>\n",
       "      <td>86.8</td>\n",
       "      <td>24.1</td>\n",
       "      <td>0.254</td>\n",
       "      <td>0.358</td>\n",
       "      <td>0.326</td>\n",
       "      <td>0.366</td>\n",
       "      <td>32.1</td>\n",
       "    </tr>\n",
       "    <tr>\n",
       "      <th>1</th>\n",
       "      <td>10/1/2016</td>\n",
       "      <td>Astros</td>\n",
       "      <td>1</td>\n",
       "      <td>4.0</td>\n",
       "      <td>107.0</td>\n",
       "      <td>81.1</td>\n",
       "      <td>10.8</td>\n",
       "      <td>0.192</td>\n",
       "      <td>0.315</td>\n",
       "      <td>0.258</td>\n",
       "      <td>0.187</td>\n",
       "      <td>36.0</td>\n",
       "    </tr>\n",
       "    <tr>\n",
       "      <th>2</th>\n",
       "      <td>9/30/2016</td>\n",
       "      <td>Astros</td>\n",
       "      <td>1</td>\n",
       "      <td>4.3</td>\n",
       "      <td>110.3</td>\n",
       "      <td>82.6</td>\n",
       "      <td>22.0</td>\n",
       "      <td>0.222</td>\n",
       "      <td>0.353</td>\n",
       "      <td>0.298</td>\n",
       "      <td>0.280</td>\n",
       "      <td>39.1</td>\n",
       "    </tr>\n",
       "    <tr>\n",
       "      <th>3</th>\n",
       "      <td>9/28/2016</td>\n",
       "      <td>Athletics</td>\n",
       "      <td>1</td>\n",
       "      <td>3.3</td>\n",
       "      <td>106.5</td>\n",
       "      <td>87.2</td>\n",
       "      <td>10.3</td>\n",
       "      <td>0.252</td>\n",
       "      <td>0.403</td>\n",
       "      <td>0.332</td>\n",
       "      <td>0.371</td>\n",
       "      <td>43.3</td>\n",
       "    </tr>\n",
       "    <tr>\n",
       "      <th>4</th>\n",
       "      <td>9/27/2016</td>\n",
       "      <td>Athletics</td>\n",
       "      <td>2</td>\n",
       "      <td>6.5</td>\n",
       "      <td>104.8</td>\n",
       "      <td>85.1</td>\n",
       "      <td>7.8</td>\n",
       "      <td>0.297</td>\n",
       "      <td>0.499</td>\n",
       "      <td>0.350</td>\n",
       "      <td>0.425</td>\n",
       "      <td>32.3</td>\n",
       "    </tr>\n",
       "  </tbody>\n",
       "</table>\n",
       "</div>"
      ],
      "text/plain": [
       "        Date   Opponent  Barrels  Barrel %  Max EV  Avg EV  Launch Angle  \\\n",
       "0  10/2/2016     Astros        0       0.0   108.9    86.8          24.1   \n",
       "1  10/1/2016     Astros        1       4.0   107.0    81.1          10.8   \n",
       "2  9/30/2016     Astros        1       4.3   110.3    82.6          22.0   \n",
       "3  9/28/2016  Athletics        1       3.3   106.5    87.2          10.3   \n",
       "4  9/27/2016  Athletics        2       6.5   104.8    85.1           7.8   \n",
       "\n",
       "     xBA   xSLG  xWOBA   WOBA  Hard Hit %  \n",
       "0  0.254  0.358  0.326  0.366        32.1  \n",
       "1  0.192  0.315  0.258  0.187        36.0  \n",
       "2  0.222  0.353  0.298  0.280        39.1  \n",
       "3  0.252  0.403  0.332  0.371        43.3  \n",
       "4  0.297  0.499  0.350  0.425        32.3  "
      ]
     },
     "execution_count": 2,
     "metadata": {},
     "output_type": "execute_result"
    }
   ],
   "source": [
    "baseball_stats = pandas.read_csv(\"baseball_reference_2016_clean.csv\")\n",
    "savant_stats = pandas.read_csv(\"baseball_savant_2016.csv\")\n",
    "savant_stats.head()"
   ]
  },
  {
   "cell_type": "code",
   "execution_count": 3,
   "metadata": {
    "collapsed": true
   },
   "outputs": [],
   "source": [
    "def shorten_name(full_name):\n",
    "    if(full_name == 'Los Angeles Angels of Anaheim'):\n",
    "        return 'Angels'\n",
    "    elif(full_name == 'Arizona Diamondbacks'):\n",
    "        return 'D-Backs'\n",
    "    elif(full_name == 'Chicago White Sox'):\n",
    "        return 'White Sox'\n",
    "    elif(full_name == 'Boston Red Sox'):\n",
    "        return 'Red Sox'\n",
    "    elif(full_name == 'Toronto Blue Jays'):\n",
    "        return 'Blue Jays'\n",
    "    return full_name.split()[-1]\n",
    "\n",
    "# baseball_stats['away_team'] = baseball_stats['away_team'].apply(shorten_name)\n",
    "# baseball_stats['home_team'] = baseball_stats['home_team'].apply(shorten_name)"
   ]
  },
  {
   "cell_type": "code",
   "execution_count": 9,
   "metadata": {},
   "outputs": [],
   "source": [
    "# merged_data = pandas.merge(baseball_stats, savant_stats, left_on='date', right_on='Date')\n",
    "# merged_data.head()\n",
    "# merged_data_final = merged_data[merged_data['away_team'] == merged_data['Opponent']]\n",
    "# merged_data_final.head()\n",
    "\n",
    "# Note that this can't be run more than once; we already ran it once\n",
    "# Now when we run these bits of code nothing shows up, because there is nothing\n",
    "# to merge."
   ]
  },
  {
   "cell_type": "code",
   "execution_count": 10,
   "metadata": {
    "collapsed": true
   },
   "outputs": [],
   "source": [
    "# merged_data = pandas.merge(baseball_stats, savant_stats, left_on='date', right_on='Date')\n",
    "# merged_data.head()\n",
    "# merged_data_home = merged_data[merged_data['home_team'] == merged_data['Opponent']]\n",
    "# merged_data_home.head()"
   ]
  },
  {
   "cell_type": "code",
   "execution_count": null,
   "metadata": {
    "collapsed": true
   },
   "outputs": [],
   "source": []
  }
 ],
 "metadata": {
  "kernelspec": {
   "display_name": "Python 3",
   "language": "python",
   "name": "python3"
  },
  "language_info": {
   "codemirror_mode": {
    "name": "ipython",
    "version": 3
   },
   "file_extension": ".py",
   "mimetype": "text/x-python",
   "name": "python",
   "nbconvert_exporter": "python",
   "pygments_lexer": "ipython3",
   "version": "3.6.2"
  }
 },
 "nbformat": 4,
 "nbformat_minor": 2
}
